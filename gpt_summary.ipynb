{
 "cells": [
  {
   "cell_type": "code",
   "execution_count": 2,
   "metadata": {},
   "outputs": [
    {
     "data": {
      "text/plain": [
       "\"Candidate Summary: Cayden Dunn\\n\\nCayden Dunn is a highly qualified candidate for the position of Machine Learning Engineer/Data Scientist with a focus on generative AI. With a strong background in machine learning algorithms and a passion for MLOps practices, Cayden is well-suited to contribute to the development and maintenance of cutting-edge AI platforms. \\n\\nCayden's professional experience includes working as a Machine Learning Engineer at ClearForce, where they developed a model that won a $300,000 contract and partnership with Virginia VA to prevent veteran suicide. They utilized skills in SKlearn, DataBricks, Apache Spark, MLFlow, and SQL to accomplish this. Additionally, Cayden automated data processing and created visualizations for business teams using Python and PowerBI. Their experience also includes working as a Computer Scientist at the Medical University of SC, where they integrated behavioral analysis into brainwave analysis studies and assisted in creating 3D brain renderings. They also have experience as a Frontend Developer, developing a web app to automate shift scheduling for a non-profit organization.\\n\\nIn terms of education, Cayden holds a Master of Science in Data Science and Analytics from the College of Charleston, where they achieved a GPA of 4/4 and won first place in the Graduate Poster Session. They also hold a Bachelor of Science in Computer Science from the same institution, graduating magna cum laude. Additionally, Cayden has a Machine Learning Certificate from Stanford Online, where they completed a course taught by Andrew Ng.\\n\\nCayden's skills in SKlearn, Apache Spark, Databricks, Azure, SQL, and Python align well with the requirements of the job. They also have experience with MLOps tools and practices, such as Kubeflow, MLflow, DVC, and Docker. Their understanding of Generative AI technologies and their applications further demonstrates their fit for the role.\\n\\nOverall, Cayden's experience, skills, and educational background make them a strong candidate for the Machine Learning Engineer/Data Scientist position at Coleman Research. They have a proven track record of developing models, automating processes, and utilizing various tools and technologies. Their passion for AI and their alignment with the company's goals and values make them an excellent fit for the role.\""
      ]
     },
     "execution_count": 2,
     "metadata": {},
     "output_type": "execute_result"
    }
   ],
   "source": [
    "from langchain_openai import ChatOpenAI\n",
    "from langchain_core.output_parsers import StrOutputParser\n",
    "from langchain_core.prompts import ChatPromptTemplate\n",
    "from langchain_openai import ChatOpenAI\n",
    "import openai\n",
    "\n",
    "# Setup OpenAI client\n",
    "api_key = os.getenv('OPENAI_API_KEY')\n",
    "if api_key is None:\n",
    "    raise ValueError(\"OPENAI_API_KEY environment variable not found.\")\n",
    "openai.api_key = api_key\n",
    "\n",
    "def read_file(file_path):\n",
    "    \"\"\"Read the contents of a file.\"\"\"\n",
    "    with open(file_path, 'r', encoding='utf-8') as file:\n",
    "        return file.read()\n",
    "\n",
    "\n",
    "model = ChatOpenAI(model=\"gpt-3.5-turbo\")\n",
    "output_parser = StrOutputParser()\n",
    "\n",
    "\n",
    "task_and_documents = ChatPromptTemplate.from_template(\"Generate a short summary for the top candidates who fit best the job description. The summary should highlight the reasoning for their fit. here is a copy of the job description '''{job_description}''' and here is a copy of the {candidate_name} resumes '''{candidates_resumes}'''. Think Step by step and explain your reasoning.\")\n",
    "job_description = str(read_file(r\"C:\\Users\\Cayden.Dunn\\source\\repos\\coleman_project\\data\\jd_cleaned\\ML_Engineer_CRG.txt\"))\n",
    "candidate_name = \"Cayden_dunn_res.txt\"\n",
    "candidates_resumes = str(read_file(r\"C:\\Users\\Cayden.Dunn\\source\\repos\\coleman_project\\data\\resumes_cleaned\\Cayden_dunn_res.txt\"))\n",
    "\n",
    "chain = task_and_documents | model | output_parser\n",
    "\n",
    "chain.invoke({'candidate_name': candidate_name, 'candidates_resumes': candidates_resumes, 'job_description': job_description})"
   ]
  }
 ],
 "metadata": {
  "kernelspec": {
   "display_name": ".venv",
   "language": "python",
   "name": "python3"
  },
  "language_info": {
   "codemirror_mode": {
    "name": "ipython",
    "version": 3
   },
   "file_extension": ".py",
   "mimetype": "text/x-python",
   "name": "python",
   "nbconvert_exporter": "python",
   "pygments_lexer": "ipython3",
   "version": "3.11.7"
  }
 },
 "nbformat": 4,
 "nbformat_minor": 2
}
