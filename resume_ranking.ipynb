{
 "cells": [
  {
   "cell_type": "code",
   "execution_count": 1,
   "metadata": {},
   "outputs": [],
   "source": [
    "import os\n",
    "from openai import OpenAI\n",
    "import numpy as np\n",
    "from scipy.spatial.distance import cosine\n",
    "import logging"
   ]
  },
  {
   "cell_type": "code",
   "execution_count": 2,
   "metadata": {},
   "outputs": [],
   "source": [
    "# Setup logging\n",
    "logging.basicConfig(level=logging.INFO, format='%(asctime)s - %(levelname)s - %(message)s')"
   ]
  },
  {
   "cell_type": "code",
   "execution_count": 3,
   "metadata": {},
   "outputs": [],
   "source": [
    "api_key = os.getenv('OPENAI_API_KEY')\n",
    "if api_key is None:\n",
    "    logging.error('OPENAI_API_KEY environment variable not found.')\n",
    "    exit(1)\n",
    "\n",
    "client = OpenAI()"
   ]
  },
  {
   "cell_type": "code",
   "execution_count": 4,
   "metadata": {},
   "outputs": [],
   "source": [
    "def get_embedding(client, text, model=\"text-embedding-ada-002\"):\n",
    "    \"\"\"Get embedding for the given text using specified model.\"\"\"\n",
    "    text = text.replace(\"\\n\", \" \")\n",
    "    try:\n",
    "        return client.embeddings.create(input = text, model=model).data[0].embedding\n",
    "    except Exception as e:\n",
    "        logging.error(f\"Error in generating embedding: {e}\")\n",
    "        return None"
   ]
  },
  {
   "cell_type": "code",
   "execution_count": 5,
   "metadata": {},
   "outputs": [],
   "source": [
    "def cosine_similarity(embedding1, embedding2):\n",
    "    \"\"\"Calculate cosine similarity between two embeddings.\"\"\"\n",
    "    return np.dot(embedding1, embedding2) / (np.linalg.norm(embedding1) * np.linalg.norm(embedding2))\n"
   ]
  },
  {
   "cell_type": "code",
   "execution_count": 6,
   "metadata": {},
   "outputs": [],
   "source": [
    "def rank_resumes(job_description, resumes):\n",
    "    \"\"\"Rank resumes based on their similarity to the job description.\"\"\"\n",
    "    job_embedding = get_embedding(job_description)\n",
    "    if job_embedding is None:\n",
    "        return []\n",
    "\n",
    "    scores = []\n",
    "    for resume in resumes:\n",
    "        resume_embedding = get_embedding(resume)\n",
    "        if resume_embedding is not None:\n",
    "            score = cosine_similarity(np.array(job_embedding), np.array(resume_embedding))\n",
    "            scores.append((resume, score))\n",
    "\n",
    "    # Sort based on scores in descending order\n",
    "    scores.sort(key=lambda x: x[1], reverse=True)\n",
    "    return scores"
   ]
  },
  {
   "cell_type": "code",
   "execution_count": 7,
   "metadata": {},
   "outputs": [
    {
     "name": "stderr",
     "output_type": "stream",
     "text": [
      "2024-01-24 13:09:13,810 - INFO - HTTP Request: POST https://api.openai.com/v1/embeddings \"HTTP/1.1 200 OK\"\n",
      "2024-01-24 13:09:13,935 - INFO - HTTP Request: POST https://api.openai.com/v1/embeddings \"HTTP/1.1 200 OK\"\n",
      "2024-01-24 13:09:14,053 - INFO - HTTP Request: POST https://api.openai.com/v1/embeddings \"HTTP/1.1 200 OK\"\n",
      "2024-01-24 13:09:14,826 - INFO - HTTP Request: POST https://api.openai.com/v1/embeddings \"HTTP/1.1 200 OK\"\n"
     ]
    },
    {
     "name": "stdout",
     "output_type": "stream",
     "text": [
      "Resume: Resume 1 text., Score: 0.8311945332290726\n",
      "Resume: Resume 2 text., Score: 0.8294378745143971\n",
      "Resume: Resume 3 text., Score: 0.8275819729499346\n"
     ]
    }
   ],
   "source": [
    "# testing of the above functions\n",
    "# def main():\n",
    "#     \"\"\"Main function for testing resume ranking.\"\"\"\n",
    "#     # Example Job Description and Resumes for Testing\n",
    "#     job_description = \"Example job description text.\"\n",
    "#     resumes = [\"Resume 1 text.\", \"Resume 2 text.\", \"Resume 3 text.\"]\n",
    "\n",
    "#     # Rank the resumes\n",
    "#     ranked_resumes = rank_resumes(job_description, resumes)\n",
    "#     for resume, score in ranked_resumes:\n",
    "#         print(f\"Resume: {resume}, Score: {score}\")\n",
    "\n",
    "# if __name__ == \"__main__\":\n",
    "#     logging.basicConfig(level=logging.INFO, format='%(asctime)s - %(levelname)s - %(message)s')\n",
    "#     client = OpenAI()\n",
    "#     main()"
   ]
  }
 ],
 "metadata": {
  "kernelspec": {
   "display_name": ".venv",
   "language": "python",
   "name": "python3"
  },
  "language_info": {
   "codemirror_mode": {
    "name": "ipython",
    "version": 3
   },
   "file_extension": ".py",
   "mimetype": "text/x-python",
   "name": "python",
   "nbconvert_exporter": "python",
   "pygments_lexer": "ipython3",
   "version": "3.11.7"
  }
 },
 "nbformat": 4,
 "nbformat_minor": 2
}
